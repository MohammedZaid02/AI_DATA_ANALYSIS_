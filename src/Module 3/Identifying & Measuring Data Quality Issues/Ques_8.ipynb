{
 "cells": [
  {
   "cell_type": "code",
   "execution_count": null,
   "metadata": {},
   "outputs": [],
   "source": [
    "# Question: Detecting Data Drift\n",
    "# Description: Identify potential data drift between two time periods for a numeric attribute.\n",
    "import pandas as pd\n",
    "import numpy as np\n",
    "import matplotlib.pyplot as plt\n",
    "import seaborn as sns\n",
    "from scipy.stats import ks_2samp\n",
    "data = {\n",
    "    'date': pd.date_range(start='2023-01-01', periods=100, freq='D').append(pd.date_range(start='2023-04-01', periods=100, freq='D')),\n",
    "    'value': np.concatenate([np.random.normal(loc=50, scale=5, size=100), np.random.normal(loc=60, scale=10, size=100)])\n",
    "}\n",
    "df = pd.DataFrame(data)\n",
    "df['period'] = np.where(df['date'] < '2023-04-01', 'Period 1', 'Period 2')\n",
    "plt.figure(figsize=(10, 6))\n",
    "sns.histplot(df[df['period'] == 'Period 1']['value'], color='blue', label='Period 1', kde=True, stat='density', linewidth=0)\n",
    "sns.histplot(df[df['period'] == 'Period 2']['value'], color='red', label='Period 2', kde=True, stat='density', linewidth=0)\n",
    "plt.legend()\n",
    "plt.title(\"Distribution Comparison: Period 1 vs Period 2\")\n",
    "plt.xlabel('Value')\n",
    "plt.ylabel('Density')\n",
    "plt.show()\n",
    "period_1_values = df[df['period'] == 'Period 1']['value']\n",
    "period_2_values = df[df['period'] == 'Period 2']['value']\n",
    "ks_statistic, ks_p_value = ks_2samp(period_1_values, period_2_values)\n",
    "print(f\"KS Statistic: {ks_statistic}\")\n",
    "print(f\"KS P-value: {ks_p_value}\")\n",
    "if ks_p_value < 0.05:\n",
    "    print(\"Data drift detected: The distributions are significantly different.\")\n",
    "else:\n",
    "    print(\"No significant data drift detected: The distributions are similar.\")"
   ]
  }
 ],
 "metadata": {
  "kernelspec": {
   "display_name": "Python 3",
   "language": "python",
   "name": "python3"
  },
  "language_info": {
   "name": "python",
   "version": "3.10.12"
  }
 },
 "nbformat": 4,
 "nbformat_minor": 2
}
